{
 "cells": [
  {
   "cell_type": "markdown",
   "id": "4b37f817",
   "metadata": {
    "papermill": {
     "duration": 0.026597,
     "end_time": "2022-04-22T18:51:42.944897",
     "exception": false,
     "start_time": "2022-04-22T18:51:42.918300",
     "status": "completed"
    },
    "tags": []
   },
   "source": [
    "# Galaxy Recognition challenge"
   ]
  },
  {
   "cell_type": "code",
   "execution_count": 1,
   "id": "c7102081",
   "metadata": {
    "execution": {
     "iopub.execute_input": "2022-04-22T18:51:43.009993Z",
     "iopub.status.busy": "2022-04-22T18:51:43.009181Z",
     "iopub.status.idle": "2022-04-22T18:51:46.649188Z",
     "shell.execute_reply": "2022-04-22T18:51:46.648447Z",
     "shell.execute_reply.started": "2022-04-22T18:14:21.625688Z"
    },
    "id": "jAiy63R3skl7",
    "papermill": {
     "duration": 3.676407,
     "end_time": "2022-04-22T18:51:46.649360",
     "exception": false,
     "start_time": "2022-04-22T18:51:42.972953",
     "status": "completed"
    },
    "tags": []
   },
   "outputs": [],
   "source": [
    "import os\n",
    "import glob\n",
    "from tqdm import tqdm\n",
    "\n",
    "import numpy as np\n",
    "import pandas as pd\n",
    "import xarray as xr\n",
    "\n",
    "from skimage.transform import resize\n",
    "from skimage import io\n",
    "\n",
    "from sklearn.model_selection import train_test_split\n",
    "\n",
    "import matplotlib.pyplot as plt\n",
    "%matplotlib inline"
   ]
  },
  {
   "cell_type": "code",
   "execution_count": 2,
   "id": "53ab26bb",
   "metadata": {
    "execution": {
     "iopub.execute_input": "2022-04-22T18:51:46.702152Z",
     "iopub.status.busy": "2022-04-22T18:51:46.701240Z",
     "iopub.status.idle": "2022-04-22T18:52:24.000653Z",
     "shell.execute_reply": "2022-04-22T18:52:24.000148Z",
     "shell.execute_reply.started": "2022-04-22T18:14:42.561675Z"
    },
    "id": "8YUy3qNhtCry",
    "papermill": {
     "duration": 37.326807,
     "end_time": "2022-04-22T18:52:24.000793",
     "exception": false,
     "start_time": "2022-04-22T18:51:46.673986",
     "status": "completed"
    },
    "tags": []
   },
   "outputs": [],
   "source": [
    "!unzip -q /kaggle/input/galaxy-zoo-the-galaxy-challenge/images_training_rev1.zip\n",
    "!unzip -q /kaggle/input/galaxy-zoo-the-galaxy-challenge/training_solutions_rev1.zip\n",
    "!unzip -q /kaggle/input/galaxy-zoo-the-galaxy-challenge/images_test_rev1.zip"
   ]
  },
  {
   "cell_type": "code",
   "execution_count": 3,
   "id": "ab7fdb6f",
   "metadata": {
    "execution": {
     "iopub.execute_input": "2022-04-22T18:52:24.056454Z",
     "iopub.status.busy": "2022-04-22T18:52:24.055702Z",
     "iopub.status.idle": "2022-04-22T18:52:24.057916Z",
     "shell.execute_reply": "2022-04-22T18:52:24.058385Z",
     "shell.execute_reply.started": "2022-04-22T13:51:44.239186Z"
    },
    "papermill": {
     "duration": 0.03161,
     "end_time": "2022-04-22T18:52:24.058520",
     "exception": false,
     "start_time": "2022-04-22T18:52:24.026910",
     "status": "completed"
    },
    "tags": []
   },
   "outputs": [],
   "source": [
    "#os.environ['KAGGLE_USERNAME'] = \"rahulsathiyababu\" # username from the json file\n",
    "#os.environ['KAGGLE_KEY'] = \"\" # key from the json file"
   ]
  },
  {
   "cell_type": "code",
   "execution_count": 4,
   "id": "b9a9e542",
   "metadata": {
    "execution": {
     "iopub.execute_input": "2022-04-22T18:52:24.114807Z",
     "iopub.status.busy": "2022-04-22T18:52:24.114067Z",
     "iopub.status.idle": "2022-04-22T18:52:24.116569Z",
     "shell.execute_reply": "2022-04-22T18:52:24.116144Z",
     "shell.execute_reply.started": "2022-04-22T13:39:18.764398Z"
    },
    "papermill": {
     "duration": 0.031285,
     "end_time": "2022-04-22T18:52:24.116683",
     "exception": false,
     "start_time": "2022-04-22T18:52:24.085398",
     "status": "completed"
    },
    "tags": []
   },
   "outputs": [],
   "source": [
    "#!ls /kaggle/working\n",
    "\n",
    "#!kaggle competitions download -c galaxy-zoo-the-galaxy-challenge -f /kaggle/working/checkpoints"
   ]
  },
  {
   "cell_type": "code",
   "execution_count": 5,
   "id": "156265c9",
   "metadata": {
    "execution": {
     "iopub.execute_input": "2022-04-22T18:52:24.172243Z",
     "iopub.status.busy": "2022-04-22T18:52:24.171423Z",
     "iopub.status.idle": "2022-04-22T18:52:24.173442Z",
     "shell.execute_reply": "2022-04-22T18:52:24.173844Z",
     "shell.execute_reply.started": "2022-04-22T13:39:03.795567Z"
    },
    "papermill": {
     "duration": 0.030658,
     "end_time": "2022-04-22T18:52:24.173977",
     "exception": false,
     "start_time": "2022-04-22T18:52:24.143319",
     "status": "completed"
    },
    "tags": []
   },
   "outputs": [],
   "source": [
    "#!zip -r file.zip /kaggle/working/checkpoints"
   ]
  },
  {
   "cell_type": "code",
   "execution_count": 6,
   "id": "a9081d4a",
   "metadata": {
    "execution": {
     "iopub.execute_input": "2022-04-22T18:52:24.227466Z",
     "iopub.status.busy": "2022-04-22T18:52:24.226851Z",
     "iopub.status.idle": "2022-04-22T18:52:24.229588Z",
     "shell.execute_reply": "2022-04-22T18:52:24.229130Z",
     "shell.execute_reply.started": "2022-04-22T18:49:50.859565Z"
    },
    "papermill": {
     "duration": 0.031342,
     "end_time": "2022-04-22T18:52:24.229721",
     "exception": false,
     "start_time": "2022-04-22T18:52:24.198379",
     "status": "completed"
    },
    "tags": []
   },
   "outputs": [],
   "source": [
    "#from IPython.display import FileLink\n",
    "#FileLink(r'/kaggle/working/file.zip')"
   ]
  },
  {
   "cell_type": "markdown",
   "id": "1756892a",
   "metadata": {
    "execution": {
     "iopub.execute_input": "2022-04-22T13:41:24.907354Z",
     "iopub.status.busy": "2022-04-22T13:41:24.907026Z",
     "iopub.status.idle": "2022-04-22T13:41:24.912367Z",
     "shell.execute_reply": "2022-04-22T13:41:24.911434Z",
     "shell.execute_reply.started": "2022-04-22T13:41:24.907319Z"
    },
    "papermill": {
     "duration": 0.024804,
     "end_time": "2022-04-22T18:52:24.279937",
     "exception": false,
     "start_time": "2022-04-22T18:52:24.255133",
     "status": "completed"
    },
    "tags": []
   },
   "source": [
    "#<a href=\"/kaggle/working/file.zip\"> Download File </a>"
   ]
  },
  {
   "cell_type": "code",
   "execution_count": 7,
   "id": "d7544a93",
   "metadata": {
    "execution": {
     "iopub.execute_input": "2022-04-22T18:52:24.333065Z",
     "iopub.status.busy": "2022-04-22T18:52:24.332277Z",
     "iopub.status.idle": "2022-04-22T18:52:24.334747Z",
     "shell.execute_reply": "2022-04-22T18:52:24.334207Z"
    },
    "id": "oVWj-BhYtv_T",
    "papermill": {
     "duration": 0.030409,
     "end_time": "2022-04-22T18:52:24.334856",
     "exception": false,
     "start_time": "2022-04-22T18:52:24.304447",
     "status": "completed"
    },
    "tags": []
   },
   "outputs": [],
   "source": [
    "#!rm training_solutions_rev1.zip\n",
    "#!rm images_training_rev1.zip\n",
    "#!rm -r sample_data"
   ]
  },
  {
   "cell_type": "markdown",
   "id": "1782786c",
   "metadata": {
    "execution": {
     "iopub.execute_input": "2022-04-22T12:22:59.457324Z",
     "iopub.status.busy": "2022-04-22T12:22:59.457023Z",
     "iopub.status.idle": "2022-04-22T12:22:59.461387Z",
     "shell.execute_reply": "2022-04-22T12:22:59.460696Z",
     "shell.execute_reply.started": "2022-04-22T12:22:59.45729Z"
    },
    "papermill": {
     "duration": 0.024375,
     "end_time": "2022-04-22T18:52:24.383832",
     "exception": false,
     "start_time": "2022-04-22T18:52:24.359457",
     "status": "completed"
    },
    "tags": []
   },
   "source": [
    "# Data Analysis"
   ]
  },
  {
   "cell_type": "code",
   "execution_count": 8,
   "id": "d6af418b",
   "metadata": {
    "execution": {
     "iopub.execute_input": "2022-04-22T18:52:24.436896Z",
     "iopub.status.busy": "2022-04-22T18:52:24.436099Z",
     "iopub.status.idle": "2022-04-22T18:52:24.694643Z",
     "shell.execute_reply": "2022-04-22T18:52:24.694140Z",
     "shell.execute_reply.started": "2022-04-22T18:16:49.765256Z"
    },
    "id": "Z6wrq46b60b9",
    "papermill": {
     "duration": 0.286207,
     "end_time": "2022-04-22T18:52:24.694781",
     "exception": false,
     "start_time": "2022-04-22T18:52:24.408574",
     "status": "completed"
    },
    "tags": []
   },
   "outputs": [],
   "source": [
    "df = pd.read_csv('/kaggle/working/training_solutions_rev1.csv')"
   ]
  },
  {
   "cell_type": "code",
   "execution_count": 9,
   "id": "a4036979",
   "metadata": {
    "execution": {
     "iopub.execute_input": "2022-04-22T18:52:24.748614Z",
     "iopub.status.busy": "2022-04-22T18:52:24.747865Z",
     "iopub.status.idle": "2022-04-22T18:52:24.750281Z",
     "shell.execute_reply": "2022-04-22T18:52:24.749892Z",
     "shell.execute_reply.started": "2022-04-22T12:24:35.725583Z"
    },
    "id": "FPsL4_KkSmbl",
    "outputId": "5863396e-86b8-4313-e9bb-2a1879b982d8",
    "papermill": {
     "duration": 0.030425,
     "end_time": "2022-04-22T18:52:24.750415",
     "exception": false,
     "start_time": "2022-04-22T18:52:24.719990",
     "status": "completed"
    },
    "tags": []
   },
   "outputs": [],
   "source": [
    "#df"
   ]
  },
  {
   "cell_type": "code",
   "execution_count": 10,
   "id": "8efbbd60",
   "metadata": {
    "execution": {
     "iopub.execute_input": "2022-04-22T18:52:24.813398Z",
     "iopub.status.busy": "2022-04-22T18:52:24.804172Z",
     "iopub.status.idle": "2022-04-22T19:00:37.104396Z",
     "shell.execute_reply": "2022-04-22T19:00:37.103766Z",
     "shell.execute_reply.started": "2022-04-22T18:16:55.195617Z"
    },
    "id": "y-tpRmtdvD2e",
    "outputId": "30900570-8142-4ef2-e239-ebf6c0f0a4ab",
    "papermill": {
     "duration": 492.329509,
     "end_time": "2022-04-22T19:00:37.104563",
     "exception": false,
     "start_time": "2022-04-22T18:52:24.775054",
     "status": "completed"
    },
    "tags": []
   },
   "outputs": [
    {
     "name": "stderr",
     "output_type": "stream",
     "text": [
      "100%|██████████| 61578/61578 [08:08<00:00, 125.98it/s]\n"
     ]
    },
    {
     "name": "stdout",
     "output_type": "stream",
     "text": [
      "CPU times: user 8min 1s, sys: 8.57 s, total: 8min 9s\n",
      "Wall time: 8min 12s\n"
     ]
    }
   ],
   "source": [
    "# Based on https://www.kaggle.com/helmehelmuto/keras-cnn\n",
    "# but uses float32 to save memory/space\n",
    "\n",
    "ORIG_SHAPE = (424,424)\n",
    "CROP_SIZE = (256,256)\n",
    "IMG_SHAPE = (64,64)\n",
    "\n",
    "def get_image(path, x1,y1, shape, crop_size):\n",
    "    x = plt.imread(path)\n",
    "    x = x[x1:x1+crop_size[0], y1:y1+crop_size[1]]\n",
    "    x = resize(x, shape)\n",
    "    return x\n",
    "    \n",
    "def get_train_data(dataframe, shape=IMG_SHAPE, crop_size=CROP_SIZE):\n",
    "    x1 = (ORIG_SHAPE[0]-CROP_SIZE[0])//2\n",
    "    y1 = (ORIG_SHAPE[1]-CROP_SIZE[1])//2\n",
    "   \n",
    "    sel = dataframe.values\n",
    "    ids = sel[:,0].astype(int).astype(str)\n",
    "    y_batch = sel[:,1:].astype(np.float32)\n",
    "    x_batch = []\n",
    "    for i in tqdm(ids):\n",
    "        x = get_image('/kaggle/working/images_training_rev1/'+i+'.jpg', x1, y1, shape=shape, crop_size=crop_size)\n",
    "        x_batch.append(x.astype(np.float32))\n",
    "    x_batch = np.array(x_batch)\n",
    "    return x_batch, y_batch\n",
    "\n",
    "%time x, y = get_train_data(df)"
   ]
  },
  {
   "cell_type": "code",
   "execution_count": 11,
   "id": "7315e5a4",
   "metadata": {
    "execution": {
     "iopub.execute_input": "2022-04-22T19:00:39.945524Z",
     "iopub.status.busy": "2022-04-22T19:00:39.942794Z",
     "iopub.status.idle": "2022-04-22T19:00:42.591633Z",
     "shell.execute_reply": "2022-04-22T19:00:42.591124Z",
     "shell.execute_reply.started": "2022-04-22T12:37:07.937122Z"
    },
    "id": "GvwDFO253JNV",
    "papermill": {
     "duration": 4.076584,
     "end_time": "2022-04-22T19:00:42.591756",
     "exception": false,
     "start_time": "2022-04-22T19:00:38.515172",
     "status": "completed"
    },
    "tags": []
   },
   "outputs": [],
   "source": [
    "# Don't change the numbers in this command!\n",
    "x, x_test, y, y_test = train_test_split(x, y, train_size=0.89391, random_state=99765749)"
   ]
  },
  {
   "cell_type": "code",
   "execution_count": 12,
   "id": "a0f07b4c",
   "metadata": {
    "execution": {
     "iopub.execute_input": "2022-04-22T19:00:45.740887Z",
     "iopub.status.busy": "2022-04-22T19:00:45.739364Z",
     "iopub.status.idle": "2022-04-22T19:00:45.743375Z",
     "shell.execute_reply": "2022-04-22T19:00:45.742761Z",
     "shell.execute_reply.started": "2022-04-22T13:45:42.458583Z"
    },
    "id": "BPSIscbsvEpQ",
    "outputId": "226f56bb-62da-4159-9ba1-656155150c73",
    "papermill": {
     "duration": 1.735089,
     "end_time": "2022-04-22T19:00:45.743556",
     "exception": false,
     "start_time": "2022-04-22T19:00:44.008467",
     "status": "completed"
    },
    "tags": []
   },
   "outputs": [
    {
     "name": "stdout",
     "output_type": "stream",
     "text": [
      "shape of the data array: (55045, 64, 64, 3)\n",
      "shape of the label array: (55045, 37)\n"
     ]
    }
   ],
   "source": [
    "print(\"shape of the data array: {}\".format(x.shape))\n",
    "print(\"shape of the label array: {}\".format(y.shape))"
   ]
  },
  {
   "cell_type": "code",
   "execution_count": 13,
   "id": "0e4d7ed3",
   "metadata": {
    "execution": {
     "iopub.execute_input": "2022-04-22T19:00:48.562159Z",
     "iopub.status.busy": "2022-04-22T19:00:48.561336Z",
     "iopub.status.idle": "2022-04-22T19:00:48.829049Z",
     "shell.execute_reply": "2022-04-22T19:00:48.829475Z",
     "shell.execute_reply.started": "2022-04-22T11:57:09.40376Z"
    },
    "id": "ZvQWATdcvKOm",
    "outputId": "d7cfe027-5c97-4074-cd0e-e494c4892d62",
    "papermill": {
     "duration": 1.677217,
     "end_time": "2022-04-22T19:00:48.829622",
     "exception": false,
     "start_time": "2022-04-22T19:00:47.152405",
     "status": "completed"
    },
    "tags": []
   },
   "outputs": [
    {
     "data": {
      "text/plain": [
       "<matplotlib.colorbar.Colorbar at 0x7f04b5251410>"
      ]
     },
     "execution_count": 13,
     "metadata": {},
     "output_type": "execute_result"
    },
    {
     "data": {
      "image/png": "[encoded data removed]",
      "text/plain": [
       "<Figure size 432x288 with 2 Axes>"
      ]
     },
     "metadata": {
      "needs_background": "light"
     },
     "output_type": "display_data"
    }
   ],
   "source": [
    "plt.pcolormesh(x[4,:,:,1])\n",
    "plt.colorbar()"
   ]
  },
  {
   "cell_type": "code",
   "execution_count": 14,
   "id": "d697964e",
   "metadata": {
    "execution": {
     "iopub.execute_input": "2022-04-22T19:00:52.156539Z",
     "iopub.status.busy": "2022-04-22T19:00:52.155694Z",
     "iopub.status.idle": "2022-04-22T19:00:52.309178Z",
     "shell.execute_reply": "2022-04-22T19:00:52.309636Z",
     "shell.execute_reply.started": "2022-04-22T11:57:13.535956Z"
    },
    "id": "FliPIsrJARom",
    "outputId": "038f89a8-4d82-480e-f022-b366ddda1bbd",
    "papermill": {
     "duration": 2.073514,
     "end_time": "2022-04-22T19:00:52.309800",
     "exception": false,
     "start_time": "2022-04-22T19:00:50.236286",
     "status": "completed"
    },
    "tags": []
   },
   "outputs": [
    {
     "data": {
      "image/png": "[encoded data removed]",
      "text/plain": [
       "<Figure size 432x288 with 1 Axes>"
      ]
     },
     "metadata": {
      "needs_background": "light"
     },
     "output_type": "display_data"
    }
   ],
   "source": [
    "plt.imshow(x[4])\n",
    "plt.show()"
   ]
  },
  {
   "cell_type": "markdown",
   "id": "1272bb81",
   "metadata": {
    "id": "-FwbvCGu2lFl",
    "papermill": {
     "duration": 1.408713,
     "end_time": "2022-04-22T19:00:55.124302",
     "exception": false,
     "start_time": "2022-04-22T19:00:53.715589",
     "status": "completed"
    },
    "tags": []
   },
   "source": [
    "---\n",
    "## Test metric definition\n",
    "Before we let you start coding stuff, we will define a scoring function. If you want to use this same metric for the optimisation of the network: it is called the *Root Mean Squared Error*."
   ]
  },
  {
   "cell_type": "code",
   "execution_count": 15,
   "id": "3c0f39df",
   "metadata": {
    "execution": {
     "iopub.execute_input": "2022-04-22T19:00:58.230910Z",
     "iopub.status.busy": "2022-04-22T19:00:58.229276Z",
     "iopub.status.idle": "2022-04-22T19:00:58.231521Z",
     "shell.execute_reply": "2022-04-22T19:00:58.231921Z",
     "shell.execute_reply.started": "2022-04-22T11:57:22.635997Z"
    },
    "id": "vWfV82PHvKxf",
    "papermill": {
     "duration": 1.410028,
     "end_time": "2022-04-22T19:00:58.232066",
     "exception": false,
     "start_time": "2022-04-22T19:00:56.822038",
     "status": "completed"
    },
    "tags": []
   },
   "outputs": [],
   "source": [
    "def score(y_prediction):\n",
    "  return np.sqrt(np.mean( np.power(y_prediction - y_test, 2) ))"
   ]
  },
  {
   "cell_type": "code",
   "execution_count": 16,
   "id": "3bcd7b2c",
   "metadata": {
    "execution": {
     "iopub.execute_input": "2022-04-22T19:01:01.037183Z",
     "iopub.status.busy": "2022-04-22T19:01:01.036617Z",
     "iopub.status.idle": "2022-04-22T19:01:05.840799Z",
     "shell.execute_reply": "2022-04-22T19:01:05.841624Z",
     "shell.execute_reply.started": "2022-04-22T18:16:01.344078Z"
    },
    "id": "73NzKxAemIr6",
    "papermill": {
     "duration": 6.208208,
     "end_time": "2022-04-22T19:01:05.841804",
     "exception": false,
     "start_time": "2022-04-22T19:00:59.633596",
     "status": "completed"
    },
    "tags": []
   },
   "outputs": [],
   "source": [
    "# Imports first\n",
    "from tensorflow.keras.models import Sequential\n",
    "from tensorflow.keras.optimizers import Adam\n",
    "from tensorflow.keras.layers import Dense, Activation, Dropout, Conv2D, MaxPooling2D, Flatten, LeakyReLU, BatchNormalization,GlobalMaxPooling2D\n",
    "from tensorflow.keras.metrics import RootMeanSquaredError\n",
    "from tensorflow.keras.losses import mean_squared_error\n",
    "from tensorflow.keras.callbacks import EarlyStopping\n",
    "from tensorflow.keras.regularizers import l1,l2\n"
   ]
  },
  {
   "cell_type": "code",
   "execution_count": 17,
   "id": "715c1e0b",
   "metadata": {
    "execution": {
     "iopub.execute_input": "2022-04-22T19:01:08.926066Z",
     "iopub.status.busy": "2022-04-22T19:01:08.925512Z",
     "iopub.status.idle": "2022-04-22T19:01:10.866149Z",
     "shell.execute_reply": "2022-04-22T19:01:10.866764Z",
     "shell.execute_reply.started": "2022-04-22T18:16:14.044392Z"
    },
    "id": "jeiowD4rVO75",
    "outputId": "55f3622a-acca-44db-822f-0255c721e35a",
    "papermill": {
     "duration": 3.355955,
     "end_time": "2022-04-22T19:01:10.866955",
     "exception": false,
     "start_time": "2022-04-22T19:01:07.511000",
     "status": "completed"
    },
    "tags": []
   },
   "outputs": [
    {
     "name": "stderr",
     "output_type": "stream",
     "text": [
      "2022-04-22 19:01:09.008782: I tensorflow/stream_executor/cuda/cuda_gpu_executor.cc:937] successful NUMA node read from SysFS had negative value (-1), but there must be at least one NUMA node, so returning NUMA node zero\n",
      "2022-04-22 19:01:09.014011: I tensorflow/stream_executor/cuda/cuda_gpu_executor.cc:937] successful NUMA node read from SysFS had negative value (-1), but there must be at least one NUMA node, so returning NUMA node zero\n",
      "2022-04-22 19:01:09.014715: I tensorflow/stream_executor/cuda/cuda_gpu_executor.cc:937] successful NUMA node read from SysFS had negative value (-1), but there must be at least one NUMA node, so returning NUMA node zero\n",
      "2022-04-22 19:01:09.015916: I tensorflow/core/platform/cpu_feature_guard.cc:142] This TensorFlow binary is optimized with oneAPI Deep Neural Network Library (oneDNN) to use the following CPU instructions in performance-critical operations:  AVX2 AVX512F FMA\n",
      "To enable them in other operations, rebuild TensorFlow with the appropriate compiler flags.\n",
      "2022-04-22 19:01:09.017301: I tensorflow/stream_executor/cuda/cuda_gpu_executor.cc:937] successful NUMA node read from SysFS had negative value (-1), but there must be at least one NUMA node, so returning NUMA node zero\n",
      "2022-04-22 19:01:09.017976: I tensorflow/stream_executor/cuda/cuda_gpu_executor.cc:937] successful NUMA node read from SysFS had negative value (-1), but there must be at least one NUMA node, so returning NUMA node zero\n",
      "2022-04-22 19:01:09.018605: I tensorflow/stream_executor/cuda/cuda_gpu_executor.cc:937] successful NUMA node read from SysFS had negative value (-1), but there must be at least one NUMA node, so returning NUMA node zero\n",
      "2022-04-22 19:01:10.633716: I tensorflow/stream_executor/cuda/cuda_gpu_executor.cc:937] successful NUMA node read from SysFS had negative value (-1), but there must be at least one NUMA node, so returning NUMA node zero\n",
      "2022-04-22 19:01:10.634456: I tensorflow/stream_executor/cuda/cuda_gpu_executor.cc:937] successful NUMA node read from SysFS had negative value (-1), but there must be at least one NUMA node, so returning NUMA node zero\n",
      "2022-04-22 19:01:10.635083: I tensorflow/stream_executor/cuda/cuda_gpu_executor.cc:937] successful NUMA node read from SysFS had negative value (-1), but there must be at least one NUMA node, so returning NUMA node zero\n",
      "2022-04-22 19:01:10.635700: I tensorflow/core/common_runtime/gpu/gpu_device.cc:1510] Created device /job:localhost/replica:0/task:0/device:GPU:0 with 15417 MB memory:  -> device: 0, name: Tesla P100-PCIE-16GB, pci bus id: 0000:00:04.0, compute capability: 6.0\n"
     ]
    }
   ],
   "source": [
    "model = Sequential()\n",
    "\n",
    "#model.add(Conv2D(32,3,activation='relu', input_shape = (x.shape[1],x.shape[2],x.shape[3]),kernel_regularizer='l2'))\n",
    "model.add(Conv2D(32,3,activation='relu', input_shape = (64,64,3),kernel_regularizer='l2'))\n",
    "model.add(BatchNormalization())\n",
    "model.add(MaxPooling2D(2))\n",
    "\n",
    "model.add(Conv2D(64,3,activation='relu',kernel_regularizer='l2'))\n",
    "model.add(BatchNormalization())\n",
    "model.add(MaxPooling2D(2))\n",
    "\n",
    "model.add(Conv2D(128,3,activation='relu',kernel_regularizer='l2'))\n",
    "model.add(BatchNormalization())\n",
    "model.add(MaxPooling2D(2))\n",
    "\n",
    "model.add(Conv2D(512,3,activation='relu',kernel_regularizer='l2'))\n",
    "model.add(BatchNormalization())\n",
    "\n",
    "#model.add(Conv2D(512,(4,4),activation='relu'))\n",
    "model.add(GlobalMaxPooling2D())\n",
    "\n",
    "#model.add(Flatten())\n",
    "model.add(Dense(512, activation='relu'))\n",
    "model.add(Dropout(0.3))\n",
    "model.add(Dense(128, activation='relu'))\n",
    "model.add(Dropout(0.2))\n",
    "model.add(Dense(37,activation= 'sigmoid'))"
   ]
  },
  {
   "cell_type": "code",
   "execution_count": 18,
   "id": "3d129f4e",
   "metadata": {
    "execution": {
     "iopub.execute_input": "2022-04-22T19:01:13.746116Z",
     "iopub.status.busy": "2022-04-22T19:01:13.745271Z",
     "iopub.status.idle": "2022-04-22T19:01:13.751956Z",
     "shell.execute_reply": "2022-04-22T19:01:13.752311Z",
     "shell.execute_reply.started": "2022-04-22T18:16:20.576970Z"
    },
    "id": "Ar7NFKs6dem3",
    "outputId": "21a682dd-6ee7-4c7a-8858-9a6040f170cf",
    "papermill": {
     "duration": 1.446909,
     "end_time": "2022-04-22T19:01:13.752486",
     "exception": false,
     "start_time": "2022-04-22T19:01:12.305577",
     "status": "completed"
    },
    "tags": []
   },
   "outputs": [
    {
     "name": "stdout",
     "output_type": "stream",
     "text": [
      "Model: \"sequential\"\n",
      "_________________________________________________________________\n",
      "Layer (type)                 Output Shape              Param #   \n",
      "=================================================================\n",
      "conv2d (Conv2D)              (None, 62, 62, 32)        896       \n",
      "_________________________________________________________________\n",
      "batch_normalization (BatchNo (None, 62, 62, 32)        128       \n",
      "_________________________________________________________________\n",
      "max_pooling2d (MaxPooling2D) (None, 31, 31, 32)        0         \n",
      "_________________________________________________________________\n",
      "conv2d_1 (Conv2D)            (None, 29, 29, 64)        18496     \n",
      "_________________________________________________________________\n",
      "batch_normalization_1 (Batch (None, 29, 29, 64)        256       \n",
      "_________________________________________________________________\n",
      "max_pooling2d_1 (MaxPooling2 (None, 14, 14, 64)        0         \n",
      "_________________________________________________________________\n",
      "conv2d_2 (Conv2D)            (None, 12, 12, 128)       73856     \n",
      "_________________________________________________________________\n",
      "batch_normalization_2 (Batch (None, 12, 12, 128)       512       \n",
      "_________________________________________________________________\n",
      "max_pooling2d_2 (MaxPooling2 (None, 6, 6, 128)         0         \n",
      "_________________________________________________________________\n",
      "conv2d_3 (Conv2D)            (None, 4, 4, 512)         590336    \n",
      "_________________________________________________________________\n",
      "batch_normalization_3 (Batch (None, 4, 4, 512)         2048      \n",
      "_________________________________________________________________\n",
      "global_max_pooling2d (Global (None, 512)               0         \n",
      "_________________________________________________________________\n",
      "dense (Dense)                (None, 512)               262656    \n",
      "_________________________________________________________________\n",
      "dropout (Dropout)            (None, 512)               0         \n",
      "_________________________________________________________________\n",
      "dense_1 (Dense)              (None, 128)               65664     \n",
      "_________________________________________________________________\n",
      "dropout_1 (Dropout)          (None, 128)               0         \n",
      "_________________________________________________________________\n",
      "dense_2 (Dense)              (None, 37)                4773      \n",
      "=================================================================\n",
      "Total params: 1,019,621\n",
      "Trainable params: 1,018,149\n",
      "Non-trainable params: 1,472\n",
      "_________________________________________________________________\n"
     ]
    }
   ],
   "source": [
    "model.summary()"
   ]
  },
  {
   "cell_type": "code",
   "execution_count": 19,
   "id": "c0b34b9a",
   "metadata": {
    "execution": {
     "iopub.execute_input": "2022-04-22T19:01:16.574074Z",
     "iopub.status.busy": "2022-04-22T19:01:16.573269Z",
     "iopub.status.idle": "2022-04-22T19:01:16.629085Z",
     "shell.execute_reply": "2022-04-22T19:01:16.629521Z",
     "shell.execute_reply.started": "2022-04-22T12:39:27.055052Z"
    },
    "id": "HX-62ehNdiHu",
    "outputId": "006bf5c3-1546-467e-d2c4-97f9d74a90ec",
    "papermill": {
     "duration": 1.469452,
     "end_time": "2022-04-22T19:01:16.629679",
     "exception": false,
     "start_time": "2022-04-22T19:01:15.160227",
     "status": "completed"
    },
    "tags": []
   },
   "outputs": [],
   "source": [
    "model.compile(optimizer='adam',loss='mse',metrics=['RootMeanSquaredError'])\n",
    "model.save_weights('/kaggle/working/checkpoints/my_checkpoint')"
   ]
  },
  {
   "cell_type": "code",
   "execution_count": 20,
   "id": "7ffe8ab1",
   "metadata": {
    "execution": {
     "iopub.execute_input": "2022-04-22T19:01:19.767843Z",
     "iopub.status.busy": "2022-04-22T19:01:19.767070Z",
     "iopub.status.idle": "2022-04-22T19:02:47.363905Z",
     "shell.execute_reply": "2022-04-22T19:02:47.364323Z",
     "shell.execute_reply.started": "2022-04-22T12:39:35.62081Z"
    },
    "id": "1QypB9mLj-7l",
    "outputId": "01269d82-4a0d-417e-859d-f5d6195f6b04",
    "papermill": {
     "duration": 89.046749,
     "end_time": "2022-04-22T19:02:47.364550",
     "exception": false,
     "start_time": "2022-04-22T19:01:18.317801",
     "status": "completed"
    },
    "tags": []
   },
   "outputs": [
    {
     "name": "stderr",
     "output_type": "stream",
     "text": [
      "2022-04-22 19:01:19.767651: W tensorflow/core/framework/cpu_allocator_impl.cc:80] Allocation of 2705571840 exceeds 10% of free system memory.\n",
      "2022-04-22 19:01:22.473474: W tensorflow/core/framework/cpu_allocator_impl.cc:80] Allocation of 2705571840 exceeds 10% of free system memory.\n",
      "2022-04-22 19:01:24.528180: I tensorflow/compiler/mlir/mlir_graph_optimization_pass.cc:185] None of the MLIR Optimization Passes are enabled (registered 2)\n"
     ]
    },
    {
     "name": "stdout",
     "output_type": "stream",
     "text": [
      "Epoch 1/7\n"
     ]
    },
    {
     "name": "stderr",
     "output_type": "stream",
     "text": [
      "2022-04-22 19:01:26.232109: I tensorflow/stream_executor/cuda/cuda_dnn.cc:369] Loaded cuDNN version 8005\n"
     ]
    },
    {
     "name": "stdout",
     "output_type": "stream",
     "text": [
      "431/431 [==============================] - ETA: 0s - loss: 0.1567 - root_mean_squared_error: 0.1626"
     ]
    },
    {
     "name": "stderr",
     "output_type": "stream",
     "text": [
      "2022-04-22 19:01:38.106737: W tensorflow/core/framework/cpu_allocator_impl.cc:80] Allocation of 321110016 exceeds 10% of free system memory.\n",
      "2022-04-22 19:01:38.264604: W tensorflow/core/framework/cpu_allocator_impl.cc:80] Allocation of 321110016 exceeds 10% of free system memory.\n"
     ]
    },
    {
     "name": "stdout",
     "output_type": "stream",
     "text": [
      "431/431 [==============================] - 14s 17ms/step - loss: 0.1567 - root_mean_squared_error: 0.1626 - val_loss: 0.0600 - val_root_mean_squared_error: 0.2275\n",
      "Epoch 2/7\n",
      "431/431 [==============================] - 7s 16ms/step - loss: 0.0243 - root_mean_squared_error: 0.1354 - val_loss: 0.0527 - val_root_mean_squared_error: 0.2160\n",
      "Epoch 3/7\n",
      "431/431 [==============================] - 7s 17ms/step - loss: 0.0215 - root_mean_squared_error: 0.1305 - val_loss: 0.0208 - val_root_mean_squared_error: 0.1299\n",
      "Epoch 4/7\n",
      "431/431 [==============================] - 7s 16ms/step - loss: 0.0200 - root_mean_squared_error: 0.1284 - val_loss: 0.0347 - val_root_mean_squared_error: 0.1766\n",
      "Epoch 5/7\n",
      "431/431 [==============================] - 7s 16ms/step - loss: 0.0200 - root_mean_squared_error: 0.1284 - val_loss: 0.0349 - val_root_mean_squared_error: 0.1787\n",
      "Epoch 6/7\n",
      "431/431 [==============================] - 7s 16ms/step - loss: 0.0192 - root_mean_squared_error: 0.1265 - val_loss: 0.0283 - val_root_mean_squared_error: 0.1594\n",
      "Epoch 7/7\n",
      "431/431 [==============================] - 7s 16ms/step - loss: 0.0187 - root_mean_squared_error: 0.1256 - val_loss: 0.0236 - val_root_mean_squared_error: 0.1438\n"
     ]
    }
   ],
   "source": [
    "history = model.fit(x,y,batch_size=128, epochs=7, validation_data=(x_test,y_test))"
   ]
  },
  {
   "cell_type": "code",
   "execution_count": 21,
   "id": "106f1b83",
   "metadata": {
    "execution": {
     "iopub.execute_input": "2022-04-22T19:02:50.677816Z",
     "iopub.status.busy": "2022-04-22T19:02:50.677029Z",
     "iopub.status.idle": "2022-04-22T19:02:50.679663Z",
     "shell.execute_reply": "2022-04-22T19:02:50.679171Z",
     "shell.execute_reply.started": "2022-04-22T12:43:05.499698Z"
    },
    "papermill": {
     "duration": 1.64359,
     "end_time": "2022-04-22T19:02:50.679782",
     "exception": false,
     "start_time": "2022-04-22T19:02:49.036192",
     "status": "completed"
    },
    "tags": []
   },
   "outputs": [],
   "source": [
    "# plt.plot(history.history['loss'])\n",
    "# plt.plot(history.history['val_loss'])\n",
    "# plt.legend(['train', 'val'], loc='upper right')\n",
    "# plt.title('model loss')\n",
    "# plt.ylabel('loss')\n",
    "# plt.xlabel('epoch')\n",
    "# plt.show()"
   ]
  },
  {
   "cell_type": "code",
   "execution_count": 22,
   "id": "7745b626",
   "metadata": {
    "execution": {
     "iopub.execute_input": "2022-04-22T19:02:53.989842Z",
     "iopub.status.busy": "2022-04-22T19:02:53.988030Z",
     "iopub.status.idle": "2022-04-22T19:02:53.990458Z",
     "shell.execute_reply": "2022-04-22T19:02:53.990857Z",
     "shell.execute_reply.started": "2022-04-22T12:43:11.143554Z"
    },
    "papermill": {
     "duration": 1.652039,
     "end_time": "2022-04-22T19:02:53.990999",
     "exception": false,
     "start_time": "2022-04-22T19:02:52.338960",
     "status": "completed"
    },
    "tags": []
   },
   "outputs": [],
   "source": [
    "# plt.plot(history.history['root_mean_squared_error'])\n",
    "# plt.plot(history.history['val_root_mean_squared_error'])\n",
    "# plt.title('model loss')\n",
    "# plt.ylabel('loss')\n",
    "# plt.legend(['train', 'val'], loc='upper right')\n",
    "# plt.xlabel('epoch')\n",
    "# plt.show()"
   ]
  },
  {
   "cell_type": "code",
   "execution_count": 23,
   "id": "60ec9aa0",
   "metadata": {
    "execution": {
     "iopub.execute_input": "2022-04-22T19:02:57.659428Z",
     "iopub.status.busy": "2022-04-22T19:02:57.658556Z",
     "iopub.status.idle": "2022-04-22T19:02:57.660321Z",
     "shell.execute_reply": "2022-04-22T19:02:57.660906Z",
     "shell.execute_reply.started": "2022-04-22T18:44:29.542938Z"
    },
    "papermill": {
     "duration": 1.983118,
     "end_time": "2022-04-22T19:02:57.661053",
     "exception": false,
     "start_time": "2022-04-22T19:02:55.677935",
     "status": "completed"
    },
    "tags": []
   },
   "outputs": [],
   "source": [
    "#model.load_weights('/kaggle/working/checkpoints/my_checkpoint')"
   ]
  },
  {
   "cell_type": "markdown",
   "id": "b5118c4e",
   "metadata": {
    "papermill": {
     "duration": 1.634072,
     "end_time": "2022-04-22T19:03:01.107306",
     "exception": false,
     "start_time": "2022-04-22T19:02:59.473234",
     "status": "completed"
    },
    "tags": []
   },
   "source": [
    "# Prediction 1st way"
   ]
  },
  {
   "cell_type": "code",
   "execution_count": 24,
   "id": "a596e0d6",
   "metadata": {
    "execution": {
     "iopub.execute_input": "2022-04-22T19:03:05.000864Z",
     "iopub.status.busy": "2022-04-22T19:03:04.999237Z",
     "iopub.status.idle": "2022-04-22T19:03:05.001451Z",
     "shell.execute_reply": "2022-04-22T19:03:05.001857Z",
     "shell.execute_reply.started": "2022-04-22T13:07:59.259071Z"
    },
    "papermill": {
     "duration": 2.190319,
     "end_time": "2022-04-22T19:03:05.001995",
     "exception": false,
     "start_time": "2022-04-22T19:03:02.811676",
     "status": "completed"
    },
    "tags": []
   },
   "outputs": [],
   "source": [
    "# image_name_list = os.listdir('/kaggle/working/images_test_rev1')\n",
    "# ORIG_SHAPE = (424,424)\n",
    "# CROP_SIZE = (256,256)\n",
    "# IMG_SHAPE = (64,64)\n",
    "\n",
    "# def get_image(path, x1,y1, shape, crop_size):\n",
    "#     x = plt.imread(path)\n",
    "#     x = x[x1:x1+crop_size[0], y1:y1+crop_size[1]]\n",
    "#     x = resize(x, shape)\n",
    "#     return x\n",
    "\n",
    "# id_list=[]\n",
    "# x_batch =[]\n",
    "# x1 = (ORIG_SHAPE[0]-CROP_SIZE[0])//2\n",
    "# y1 = (ORIG_SHAPE[1]-CROP_SIZE[1])//2\n",
    "\n",
    "# for f in image_name_list:\n",
    "    \n",
    "#     x = get_image('/kaggle/working/images_test_rev1/'+f, x1, y1, shape=IMG_SHAPE, crop_size=CROP_SIZE)\n",
    "#     x_batch.append(x.astype(np.float32))\n",
    "#     id_list.append(int(os.path.splitext(f)[0]))\n",
    "        \n",
    "# id_list = np.array(id_list)\n",
    "# x_batch= np.array(x_batch)"
   ]
  },
  {
   "cell_type": "code",
   "execution_count": 25,
   "id": "5d07c8ff",
   "metadata": {
    "execution": {
     "iopub.execute_input": "2022-04-22T19:03:08.556540Z",
     "iopub.status.busy": "2022-04-22T19:03:08.554900Z",
     "iopub.status.idle": "2022-04-22T19:03:08.557097Z",
     "shell.execute_reply": "2022-04-22T19:03:08.557512Z"
    },
    "papermill": {
     "duration": 1.900024,
     "end_time": "2022-04-22T19:03:08.557648",
     "exception": false,
     "start_time": "2022-04-22T19:03:06.657624",
     "status": "completed"
    },
    "tags": []
   },
   "outputs": [],
   "source": [
    "# y_prediction = model.predict([x_batch])\n",
    "# #fres = np.concatenate((gid,y_prediction))\n",
    "# fres = np.column_stack((id_list,y_prediction))\n",
    "# result= pd.DataFrame(fres, columns=df.columns)\n",
    "# result =result.astype({\"GalaxyID\": int}, errors='raise')\n",
    "# result.sort_values(by=['GalaxyID'])\n",
    "# result.to_csv('submission.csv',index=False)"
   ]
  },
  {
   "cell_type": "markdown",
   "id": "c08ad471",
   "metadata": {
    "papermill": {
     "duration": 1.691012,
     "end_time": "2022-04-22T19:03:11.893704",
     "exception": false,
     "start_time": "2022-04-22T19:03:10.202692",
     "status": "completed"
    },
    "tags": []
   },
   "source": [
    "# Prediction 2nd way"
   ]
  },
  {
   "cell_type": "code",
   "execution_count": 26,
   "id": "a2deaba4",
   "metadata": {
    "execution": {
     "iopub.execute_input": "2022-04-22T19:03:15.229668Z",
     "iopub.status.busy": "2022-04-22T19:03:15.228703Z",
     "iopub.status.idle": "2022-04-22T19:14:35.081528Z",
     "shell.execute_reply": "2022-04-22T19:14:35.080989Z"
    },
    "papermill": {
     "duration": 681.513272,
     "end_time": "2022-04-22T19:14:35.081674",
     "exception": false,
     "start_time": "2022-04-22T19:03:13.568402",
     "status": "completed"
    },
    "tags": []
   },
   "outputs": [
    {
     "name": "stderr",
     "output_type": "stream",
     "text": [
      "100%|██████████| 625/625 [11:15<00:00,  1.08s/it]\n",
      "/opt/conda/lib/python3.7/site-packages/ipykernel_launcher.py:25: VisibleDeprecationWarning: Creating an ndarray from ragged nested sequences (which is a list-or-tuple of lists-or-tuples-or ndarrays with different lengths or shapes) is deprecated. If you meant to do this, you must specify 'dtype=object' when creating the ndarray.\n"
     ]
    }
   ],
   "source": [
    "import os\n",
    "from tqdm import tqdm\n",
    "batch_size = 128\n",
    "def test_image_generator(ids, shape=IMG_SHAPE):\n",
    "    x1 = (ORIG_SHAPE[0]-CROP_SIZE[0])//2\n",
    "    y1 = (ORIG_SHAPE[1]-CROP_SIZE[1])//2\n",
    "    x_batch = []\n",
    "    for i in ids:\n",
    "        x = get_image('/kaggle/working/images_test_rev1/'+i, x1, y1, shape=IMG_SHAPE, crop_size=CROP_SIZE)\n",
    "        x_batch.append(x)\n",
    "    x_batch = np.array(x_batch)\n",
    "    return x_batch\n",
    "\n",
    "val_files = os.listdir('/kaggle/working/images_test_rev1/')\n",
    "val_predictions = []\n",
    "N_val = len(val_files)\n",
    "for i in tqdm(np.arange(0, N_val, batch_size)):\n",
    "    if i+batch_size > N_val:\n",
    "        upper = N_val\n",
    "    else:\n",
    "        upper = i+batch_size\n",
    "    X = test_image_generator(val_files[i:upper])\n",
    "    y_pred = model.predict(X)\n",
    "    val_predictions.append(y_pred)\n",
    "val_predictions = np.array(val_predictions)\n",
    "Y_pred = np.vstack(val_predictions)\n",
    "ids = np.array([v.split('.')[0] for v in val_files]).reshape(len(val_files),1)\n",
    "submission_df = pd.DataFrame(np.hstack((ids, Y_pred)), columns=df.columns)\n",
    "submission_df = submission_df.sort_values(by=['GalaxyID'])\n",
    "submission_df.to_csv('submission.csv', index=False)"
   ]
  }
 ],
 "metadata": {
  "kernelspec": {
   "display_name": "Python 3",
   "language": "python",
   "name": "python3"
  },
  "language_info": {
   "codemirror_mode": {
    "name": "ipython",
    "version": 3
   },
   "file_extension": ".py",
   "mimetype": "text/x-python",
   "name": "python",
   "nbconvert_exporter": "python",
   "pygments_lexer": "ipython3",
   "version": "3.7.12"
  },
  "papermill": {
   "default_parameters": {},
   "duration": 1385.373131,
   "end_time": "2022-04-22T19:14:40.302929",
   "environment_variables": {},
   "exception": null,
   "input_path": "__notebook__.ipynb",
   "output_path": "__notebook__.ipynb",
   "parameters": {},
   "start_time": "2022-04-22T18:51:34.929798",
   "version": "2.3.3"
  }
 },
 "nbformat": 4,
 "nbformat_minor": 5
}
