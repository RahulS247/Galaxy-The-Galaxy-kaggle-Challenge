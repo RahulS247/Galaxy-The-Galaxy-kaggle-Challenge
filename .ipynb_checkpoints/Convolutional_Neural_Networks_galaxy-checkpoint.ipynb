{
 "cells": [
  {
   "cell_type": "markdown",
   "metadata": {
    "id": "iuidGlWZynzL"
   },
   "source": [
    "# Convolutional neural networks\n",
    "*This notebook is based on [this one](https://www.kaggle.com/zhuangjw/compress-galaxy-train-data)*.\n",
    "\n",
    "This week's assignment is all about convolutional neural networks. These are neural network architectures that are extremely well suited for image analysis. As much data (and ideally a GPU) is needed, we will do this exercise in Google Collab.\n",
    "\n",
    "**Please read the comments in between the code, as these contain important information on how to run the code.**\n",
    "Important information is for example that you want to select GPU from the dropdown menu in the `Edit -> Notebook settings` pop up.\n",
    "\n"
   ]
  },
  {
   "cell_type": "code",
   "execution_count": 8,
   "metadata": {
    "id": "jAiy63R3skl7"
   },
   "outputs": [],
   "source": [
    "import os\n",
    "import glob\n",
    "from tqdm import tqdm\n",
    "\n",
    "import numpy as np\n",
    "import pandas as pd\n",
    "import xarray as xr\n",
    "\n",
    "from skimage.transform import resize\n",
    "from skimage import io\n",
    "\n",
    "from sklearn.model_selection import train_test_split\n",
    "\n",
    "import matplotlib.pyplot as plt\n",
    "%matplotlib inline"
   ]
  },
  {
   "cell_type": "markdown",
   "metadata": {
    "id": "-tvCHa7AvOaU"
   },
   "source": [
    "## Downloading the data from Kaggle\n",
    "The data that we will use is stored on the servers of the Kaggle website. This is a website that hosts machine learning and data science competitions. If you are interested in using machine learning (and possibly win large sums of money), this website is definitely a recommended place for you to go!\n",
    "\n",
    "In order to get the data to load, you need an account on the [Kaggle website](https://www.kaggle.com). Create such an account and click in the top right corner on your user icon -> My account. Then click the button \"Create new API token\". This downloads a file that contains your username and a hexadecimal number (a number with characters a-f in it). Copy this information in the placeholders below."
   ]
  },
  {
   "cell_type": "code",
   "execution_count": 2,
   "metadata": {
    "id": "kaTadDSssy1R"
   },
   "outputs": [],
   "source": [
    "os.environ['KAGGLE_USERNAME'] = \"rahulsathiyababu\" # username from the json file\n",
    "os.environ['KAGGLE_KEY'] = \"7debc09e5b543991a2f6dd2366d08d7e\" # key from the json file"
   ]
  },
  {
   "cell_type": "markdown",
   "metadata": {
    "id": "Ridr3hK9VMJA"
   },
   "source": [
    "In order to be able to download the data, we need to request access to it. Basically this boils down to agreeing to the rules of the Kaggle competition this data was part of. As the competition has already ended, agreeing to the rules is just a formality. You can register this agreement with the rules at the page of the competition: [https://www.kaggle.com/c/galaxy-zoo-the-galaxy-challenge/data](https://www.kaggle.com/c/galaxy-zoo-the-galaxy-challenge/data)."
   ]
  },
  {
   "cell_type": "markdown",
   "metadata": {
    "id": "9JfGiaxQvufG"
   },
   "source": [
    "We will download data from the [galaxy zoo competition](https://www.kaggle.com/c/galaxy-zoo-the-galaxy-challenge), but we will only need two of their files. Downloading these files will be rather quick, but the data is stored in .zip-format. We will therefore immediately unzip the files and remove the original zip files (as these are not needed anymore after unzipping)."
   ]
  },
  {
   "cell_type": "code",
   "execution_count": 3,
   "metadata": {
    "colab": {
     "base_uri": "https://localhost:8080/"
    },
    "id": "Hi0JzAzDszdW",
    "outputId": "0a128e61-6b79-498a-e2d8-34542e0250e9"
   },
   "outputs": [
    {
     "name": "stdout",
     "output_type": "stream",
     "text": [
      "Downloading images_training_rev1.zip to /content\n",
      " 98% 772M/792M [00:09<00:00, 83.5MB/s]\n",
      "100% 792M/792M [00:09<00:00, 85.4MB/s]\n",
      "Downloading training_solutions_rev1.zip to /content\n",
      "100% 4.63M/4.63M [00:00<00:00, 19.1MB/s]\n",
      "100% 4.63M/4.63M [00:00<00:00, 19.0MB/s]\n"
     ]
    }
   ],
   "source": [
    "!kaggle competitions download -c galaxy-zoo-the-galaxy-challenge -f images_training_rev1.zip\n",
    "!kaggle competitions download -c galaxy-zoo-the-galaxy-challenge -f training_solutions_rev1.zip"
   ]
  },
  {
   "cell_type": "code",
   "execution_count": 4,
   "metadata": {
    "id": "8YUy3qNhtCry"
   },
   "outputs": [],
   "source": [
    "!unzip -q images_training_rev1.zip\n",
    "!unzip -q training_solutions_rev1.zip"
   ]
  },
  {
   "cell_type": "code",
   "execution_count": null,
   "metadata": {
    "id": "oVWj-BhYtv_T"
   },
   "outputs": [],
   "source": [
    "!rm training_solutions_rev1.zip\n",
    "!rm images_training_rev1.zip\n",
    "!rm -r sample_data"
   ]
  },
  {
   "cell_type": "markdown",
   "metadata": {
    "id": "tKVVWf3k0Uud"
   },
   "source": [
    "## Moving data to memory\n",
    "Downloading the data is not the same as loading the data into memory. We need to move all the images from Google's SSD disks to the readily available random access memory (RAM). This allows us to play with the data. As the total dataset that we will play with is 3 GB in size, this will take a while (when we tested it, it took ~15 minutes). \n",
    "\n",
    "As this step is mandatory, we recommend you to read in on the problem on the challenge page at Kaggle: [galaxy zoo competition](https://www.kaggle.com/c/galaxy-zoo-the-galaxy-challenge). For convenience a loading bar will be displayed."
   ]
  },
  {
   "cell_type": "code",
   "execution_count": 9,
   "metadata": {
    "id": "Z6wrq46b60b9"
   },
   "outputs": [],
   "source": [
    "df = pd.read_csv('training_solutions_rev1.csv')"
   ]
  },
  {
   "cell_type": "code",
   "execution_count": 10,
   "metadata": {
    "colab": {
     "base_uri": "https://localhost:8080/",
     "height": 483
    },
    "id": "FPsL4_KkSmbl",
    "outputId": "5863396e-86b8-4313-e9bb-2a1879b982d8"
   },
   "outputs": [
    {
     "data": {
      "text/html": [
       "<div>\n",
       "<style scoped>\n",
       "    .dataframe tbody tr th:only-of-type {\n",
       "        vertical-align: middle;\n",
       "    }\n",
       "\n",
       "    .dataframe tbody tr th {\n",
       "        vertical-align: top;\n",
       "    }\n",
       "\n",
       "    .dataframe thead th {\n",
       "        text-align: right;\n",
       "    }\n",
       "</style>\n",
       "<table border=\"1\" class=\"dataframe\">\n",
       "  <thead>\n",
       "    <tr style=\"text-align: right;\">\n",
       "      <th></th>\n",
       "      <th>GalaxyID</th>\n",
       "      <th>Class1.1</th>\n",
       "      <th>Class1.2</th>\n",
       "      <th>Class1.3</th>\n",
       "      <th>Class2.1</th>\n",
       "      <th>Class2.2</th>\n",
       "      <th>Class3.1</th>\n",
       "      <th>Class3.2</th>\n",
       "      <th>Class4.1</th>\n",
       "      <th>Class4.2</th>\n",
       "      <th>...</th>\n",
       "      <th>Class9.3</th>\n",
       "      <th>Class10.1</th>\n",
       "      <th>Class10.2</th>\n",
       "      <th>Class10.3</th>\n",
       "      <th>Class11.1</th>\n",
       "      <th>Class11.2</th>\n",
       "      <th>Class11.3</th>\n",
       "      <th>Class11.4</th>\n",
       "      <th>Class11.5</th>\n",
       "      <th>Class11.6</th>\n",
       "    </tr>\n",
       "  </thead>\n",
       "  <tbody>\n",
       "    <tr>\n",
       "      <th>0</th>\n",
       "      <td>100008</td>\n",
       "      <td>0.383147</td>\n",
       "      <td>0.616853</td>\n",
       "      <td>0.000000</td>\n",
       "      <td>0.000000</td>\n",
       "      <td>0.616853</td>\n",
       "      <td>0.038452</td>\n",
       "      <td>0.578401</td>\n",
       "      <td>0.418398</td>\n",
       "      <td>0.198455</td>\n",
       "      <td>...</td>\n",
       "      <td>0.000000</td>\n",
       "      <td>0.279952</td>\n",
       "      <td>0.138445</td>\n",
       "      <td>0.000000</td>\n",
       "      <td>0.000000</td>\n",
       "      <td>0.092886</td>\n",
       "      <td>0.000000</td>\n",
       "      <td>0.000000</td>\n",
       "      <td>0.0</td>\n",
       "      <td>0.325512</td>\n",
       "    </tr>\n",
       "    <tr>\n",
       "      <th>1</th>\n",
       "      <td>100023</td>\n",
       "      <td>0.327001</td>\n",
       "      <td>0.663777</td>\n",
       "      <td>0.009222</td>\n",
       "      <td>0.031178</td>\n",
       "      <td>0.632599</td>\n",
       "      <td>0.467370</td>\n",
       "      <td>0.165229</td>\n",
       "      <td>0.591328</td>\n",
       "      <td>0.041271</td>\n",
       "      <td>...</td>\n",
       "      <td>0.018764</td>\n",
       "      <td>0.000000</td>\n",
       "      <td>0.131378</td>\n",
       "      <td>0.459950</td>\n",
       "      <td>0.000000</td>\n",
       "      <td>0.591328</td>\n",
       "      <td>0.000000</td>\n",
       "      <td>0.000000</td>\n",
       "      <td>0.0</td>\n",
       "      <td>0.000000</td>\n",
       "    </tr>\n",
       "    <tr>\n",
       "      <th>2</th>\n",
       "      <td>100053</td>\n",
       "      <td>0.765717</td>\n",
       "      <td>0.177352</td>\n",
       "      <td>0.056931</td>\n",
       "      <td>0.000000</td>\n",
       "      <td>0.177352</td>\n",
       "      <td>0.000000</td>\n",
       "      <td>0.177352</td>\n",
       "      <td>0.000000</td>\n",
       "      <td>0.177352</td>\n",
       "      <td>...</td>\n",
       "      <td>0.000000</td>\n",
       "      <td>0.000000</td>\n",
       "      <td>0.000000</td>\n",
       "      <td>0.000000</td>\n",
       "      <td>0.000000</td>\n",
       "      <td>0.000000</td>\n",
       "      <td>0.000000</td>\n",
       "      <td>0.000000</td>\n",
       "      <td>0.0</td>\n",
       "      <td>0.000000</td>\n",
       "    </tr>\n",
       "    <tr>\n",
       "      <th>3</th>\n",
       "      <td>100078</td>\n",
       "      <td>0.693377</td>\n",
       "      <td>0.238564</td>\n",
       "      <td>0.068059</td>\n",
       "      <td>0.000000</td>\n",
       "      <td>0.238564</td>\n",
       "      <td>0.109493</td>\n",
       "      <td>0.129071</td>\n",
       "      <td>0.189098</td>\n",
       "      <td>0.049466</td>\n",
       "      <td>...</td>\n",
       "      <td>0.000000</td>\n",
       "      <td>0.094549</td>\n",
       "      <td>0.000000</td>\n",
       "      <td>0.094549</td>\n",
       "      <td>0.189098</td>\n",
       "      <td>0.000000</td>\n",
       "      <td>0.000000</td>\n",
       "      <td>0.000000</td>\n",
       "      <td>0.0</td>\n",
       "      <td>0.000000</td>\n",
       "    </tr>\n",
       "    <tr>\n",
       "      <th>4</th>\n",
       "      <td>100090</td>\n",
       "      <td>0.933839</td>\n",
       "      <td>0.000000</td>\n",
       "      <td>0.066161</td>\n",
       "      <td>0.000000</td>\n",
       "      <td>0.000000</td>\n",
       "      <td>0.000000</td>\n",
       "      <td>0.000000</td>\n",
       "      <td>0.000000</td>\n",
       "      <td>0.000000</td>\n",
       "      <td>...</td>\n",
       "      <td>0.000000</td>\n",
       "      <td>0.000000</td>\n",
       "      <td>0.000000</td>\n",
       "      <td>0.000000</td>\n",
       "      <td>0.000000</td>\n",
       "      <td>0.000000</td>\n",
       "      <td>0.000000</td>\n",
       "      <td>0.000000</td>\n",
       "      <td>0.0</td>\n",
       "      <td>0.000000</td>\n",
       "    </tr>\n",
       "    <tr>\n",
       "      <th>...</th>\n",
       "      <td>...</td>\n",
       "      <td>...</td>\n",
       "      <td>...</td>\n",
       "      <td>...</td>\n",
       "      <td>...</td>\n",
       "      <td>...</td>\n",
       "      <td>...</td>\n",
       "      <td>...</td>\n",
       "      <td>...</td>\n",
       "      <td>...</td>\n",
       "      <td>...</td>\n",
       "      <td>...</td>\n",
       "      <td>...</td>\n",
       "      <td>...</td>\n",
       "      <td>...</td>\n",
       "      <td>...</td>\n",
       "      <td>...</td>\n",
       "      <td>...</td>\n",
       "      <td>...</td>\n",
       "      <td>...</td>\n",
       "      <td>...</td>\n",
       "    </tr>\n",
       "    <tr>\n",
       "      <th>61573</th>\n",
       "      <td>999948</td>\n",
       "      <td>0.510379</td>\n",
       "      <td>0.489621</td>\n",
       "      <td>0.000000</td>\n",
       "      <td>0.059207</td>\n",
       "      <td>0.430414</td>\n",
       "      <td>0.000000</td>\n",
       "      <td>0.430414</td>\n",
       "      <td>0.226257</td>\n",
       "      <td>0.204157</td>\n",
       "      <td>...</td>\n",
       "      <td>0.000000</td>\n",
       "      <td>0.226257</td>\n",
       "      <td>0.000000</td>\n",
       "      <td>0.000000</td>\n",
       "      <td>0.000000</td>\n",
       "      <td>0.000000</td>\n",
       "      <td>0.000000</td>\n",
       "      <td>0.000000</td>\n",
       "      <td>0.0</td>\n",
       "      <td>0.226257</td>\n",
       "    </tr>\n",
       "    <tr>\n",
       "      <th>61574</th>\n",
       "      <td>999950</td>\n",
       "      <td>0.901216</td>\n",
       "      <td>0.098784</td>\n",
       "      <td>0.000000</td>\n",
       "      <td>0.000000</td>\n",
       "      <td>0.098784</td>\n",
       "      <td>0.000000</td>\n",
       "      <td>0.098784</td>\n",
       "      <td>0.000000</td>\n",
       "      <td>0.098784</td>\n",
       "      <td>...</td>\n",
       "      <td>0.000000</td>\n",
       "      <td>0.000000</td>\n",
       "      <td>0.000000</td>\n",
       "      <td>0.000000</td>\n",
       "      <td>0.000000</td>\n",
       "      <td>0.000000</td>\n",
       "      <td>0.000000</td>\n",
       "      <td>0.000000</td>\n",
       "      <td>0.0</td>\n",
       "      <td>0.000000</td>\n",
       "    </tr>\n",
       "    <tr>\n",
       "      <th>61575</th>\n",
       "      <td>999958</td>\n",
       "      <td>0.202841</td>\n",
       "      <td>0.777376</td>\n",
       "      <td>0.019783</td>\n",
       "      <td>0.116962</td>\n",
       "      <td>0.660414</td>\n",
       "      <td>0.067245</td>\n",
       "      <td>0.593168</td>\n",
       "      <td>0.140022</td>\n",
       "      <td>0.520391</td>\n",
       "      <td>...</td>\n",
       "      <td>0.000000</td>\n",
       "      <td>0.000000</td>\n",
       "      <td>0.090673</td>\n",
       "      <td>0.049349</td>\n",
       "      <td>0.000000</td>\n",
       "      <td>0.067726</td>\n",
       "      <td>0.000000</td>\n",
       "      <td>0.000000</td>\n",
       "      <td>0.0</td>\n",
       "      <td>0.072296</td>\n",
       "    </tr>\n",
       "    <tr>\n",
       "      <th>61576</th>\n",
       "      <td>999964</td>\n",
       "      <td>0.091000</td>\n",
       "      <td>0.909000</td>\n",
       "      <td>0.000000</td>\n",
       "      <td>0.045450</td>\n",
       "      <td>0.863550</td>\n",
       "      <td>0.022452</td>\n",
       "      <td>0.841098</td>\n",
       "      <td>0.795330</td>\n",
       "      <td>0.068220</td>\n",
       "      <td>...</td>\n",
       "      <td>0.000000</td>\n",
       "      <td>0.068398</td>\n",
       "      <td>0.318132</td>\n",
       "      <td>0.408799</td>\n",
       "      <td>0.227464</td>\n",
       "      <td>0.408799</td>\n",
       "      <td>0.090668</td>\n",
       "      <td>0.023065</td>\n",
       "      <td>0.0</td>\n",
       "      <td>0.045334</td>\n",
       "    </tr>\n",
       "    <tr>\n",
       "      <th>61577</th>\n",
       "      <td>999967</td>\n",
       "      <td>0.767000</td>\n",
       "      <td>0.140000</td>\n",
       "      <td>0.093000</td>\n",
       "      <td>0.000000</td>\n",
       "      <td>0.140000</td>\n",
       "      <td>0.000000</td>\n",
       "      <td>0.140000</td>\n",
       "      <td>0.023380</td>\n",
       "      <td>0.116620</td>\n",
       "      <td>...</td>\n",
       "      <td>0.000000</td>\n",
       "      <td>0.023380</td>\n",
       "      <td>0.000000</td>\n",
       "      <td>0.000000</td>\n",
       "      <td>0.000000</td>\n",
       "      <td>0.000000</td>\n",
       "      <td>0.000000</td>\n",
       "      <td>0.000000</td>\n",
       "      <td>0.0</td>\n",
       "      <td>0.023380</td>\n",
       "    </tr>\n",
       "  </tbody>\n",
       "</table>\n",
       "<p>61578 rows × 38 columns</p>\n",
       "</div>"
      ],
      "text/plain": [
       "       GalaxyID  Class1.1  Class1.2  Class1.3  Class2.1  Class2.2  Class3.1  \\\n",
       "0        100008  0.383147  0.616853  0.000000  0.000000  0.616853  0.038452   \n",
       "1        100023  0.327001  0.663777  0.009222  0.031178  0.632599  0.467370   \n",
       "2        100053  0.765717  0.177352  0.056931  0.000000  0.177352  0.000000   \n",
       "3        100078  0.693377  0.238564  0.068059  0.000000  0.238564  0.109493   \n",
       "4        100090  0.933839  0.000000  0.066161  0.000000  0.000000  0.000000   \n",
       "...         ...       ...       ...       ...       ...       ...       ...   \n",
       "61573    999948  0.510379  0.489621  0.000000  0.059207  0.430414  0.000000   \n",
       "61574    999950  0.901216  0.098784  0.000000  0.000000  0.098784  0.000000   \n",
       "61575    999958  0.202841  0.777376  0.019783  0.116962  0.660414  0.067245   \n",
       "61576    999964  0.091000  0.909000  0.000000  0.045450  0.863550  0.022452   \n",
       "61577    999967  0.767000  0.140000  0.093000  0.000000  0.140000  0.000000   \n",
       "\n",
       "       Class3.2  Class4.1  Class4.2  ...  Class9.3  Class10.1  Class10.2  \\\n",
       "0      0.578401  0.418398  0.198455  ...  0.000000   0.279952   0.138445   \n",
       "1      0.165229  0.591328  0.041271  ...  0.018764   0.000000   0.131378   \n",
       "2      0.177352  0.000000  0.177352  ...  0.000000   0.000000   0.000000   \n",
       "3      0.129071  0.189098  0.049466  ...  0.000000   0.094549   0.000000   \n",
       "4      0.000000  0.000000  0.000000  ...  0.000000   0.000000   0.000000   \n",
       "...         ...       ...       ...  ...       ...        ...        ...   \n",
       "61573  0.430414  0.226257  0.204157  ...  0.000000   0.226257   0.000000   \n",
       "61574  0.098784  0.000000  0.098784  ...  0.000000   0.000000   0.000000   \n",
       "61575  0.593168  0.140022  0.520391  ...  0.000000   0.000000   0.090673   \n",
       "61576  0.841098  0.795330  0.068220  ...  0.000000   0.068398   0.318132   \n",
       "61577  0.140000  0.023380  0.116620  ...  0.000000   0.023380   0.000000   \n",
       "\n",
       "       Class10.3  Class11.1  Class11.2  Class11.3  Class11.4  Class11.5  \\\n",
       "0       0.000000   0.000000   0.092886   0.000000   0.000000        0.0   \n",
       "1       0.459950   0.000000   0.591328   0.000000   0.000000        0.0   \n",
       "2       0.000000   0.000000   0.000000   0.000000   0.000000        0.0   \n",
       "3       0.094549   0.189098   0.000000   0.000000   0.000000        0.0   \n",
       "4       0.000000   0.000000   0.000000   0.000000   0.000000        0.0   \n",
       "...          ...        ...        ...        ...        ...        ...   \n",
       "61573   0.000000   0.000000   0.000000   0.000000   0.000000        0.0   \n",
       "61574   0.000000   0.000000   0.000000   0.000000   0.000000        0.0   \n",
       "61575   0.049349   0.000000   0.067726   0.000000   0.000000        0.0   \n",
       "61576   0.408799   0.227464   0.408799   0.090668   0.023065        0.0   \n",
       "61577   0.000000   0.000000   0.000000   0.000000   0.000000        0.0   \n",
       "\n",
       "       Class11.6  \n",
       "0       0.325512  \n",
       "1       0.000000  \n",
       "2       0.000000  \n",
       "3       0.000000  \n",
       "4       0.000000  \n",
       "...          ...  \n",
       "61573   0.226257  \n",
       "61574   0.000000  \n",
       "61575   0.072296  \n",
       "61576   0.045334  \n",
       "61577   0.023380  \n",
       "\n",
       "[61578 rows x 38 columns]"
      ]
     },
     "execution_count": 10,
     "metadata": {},
     "output_type": "execute_result"
    }
   ],
   "source": [
    "df"
   ]
  },
  {
   "cell_type": "code",
   "execution_count": 100,
   "metadata": {
    "colab": {
     "base_uri": "https://localhost:8080/"
    },
    "id": "kajxeozHlazE",
    "outputId": "2e6f9c7d-1c8a-4630-ee8d-9026125801cf"
   },
   "outputs": [
    {
     "data": {
      "text/plain": [
       "array([[0.383147  , 0.616853  , 0.        , 0.        , 0.616853  ,\n",
       "        0.03845215, 0.57840085, 0.41839782, 0.19845518, 0.        ,\n",
       "        0.10475213, 0.51210087, 0.        , 0.054453  , 0.945547  ,\n",
       "        0.20146252, 0.18168448, 0.        , 0.        , 0.0272265 ,\n",
       "        0.        , 0.0272265 , 0.        , 0.        , 0.        ,\n",
       "        0.        , 0.        , 0.        , 0.27995249, 0.13844533,\n",
       "        0.        , 0.        , 0.09288557, 0.        , 0.        ,\n",
       "        0.        , 0.32551225],\n",
       "       [0.327001  , 0.663777  , 0.009222  , 0.03117827, 0.63259873,\n",
       "        0.46736964, 0.16522909, 0.59132799, 0.04127074, 0.        ,\n",
       "        0.23678107, 0.16094071, 0.23487695, 0.189149  , 0.810851  ,\n",
       "        0.        , 0.13508182, 0.19191918, 0.        , 0.        ,\n",
       "        0.14035348, 0.        , 0.04879552, 0.        , 0.        ,\n",
       "        0.01241413, 0.        , 0.01876414, 0.        , 0.13137771,\n",
       "        0.45995029, 0.        , 0.59132799, 0.        , 0.        ,\n",
       "        0.        , 0.        ],\n",
       "       [0.765717  , 0.177352  , 0.056931  , 0.        , 0.177352  ,\n",
       "        0.        , 0.177352  , 0.        , 0.177352  , 0.        ,\n",
       "        0.11778975, 0.05956225, 0.        , 0.        , 1.        ,\n",
       "        0.        , 0.74186415, 0.02385285, 0.        , 0.        ,\n",
       "        0.        , 0.        , 0.        , 0.        , 0.        ,\n",
       "        0.        , 0.        , 0.        , 0.        , 0.        ,\n",
       "        0.        , 0.        , 0.        , 0.        , 0.        ,\n",
       "        0.        , 0.        ],\n",
       "       [0.693377  , 0.238564  , 0.068059  , 0.        , 0.238564  ,\n",
       "        0.10949348, 0.12907052, 0.18909823, 0.04946577, 0.        ,\n",
       "        0.        , 0.11328402, 0.12527998, 0.320398  , 0.679602  ,\n",
       "        0.40859944, 0.28477756, 0.        , 0.        , 0.        ,\n",
       "        0.0961194 , 0.0961194 , 0.        , 0.1281592 , 0.        ,\n",
       "        0.        , 0.        , 0.        , 0.09454912, 0.        ,\n",
       "        0.09454912, 0.18909823, 0.        , 0.        , 0.        ,\n",
       "        0.        , 0.        ],\n",
       "       [0.933839  , 0.        , 0.066161  , 0.        , 0.        ,\n",
       "        0.        , 0.        , 0.        , 0.        , 0.        ,\n",
       "        0.        , 0.        , 0.        , 0.029383  , 0.970617  ,\n",
       "        0.49458728, 0.43925172, 0.        , 0.        , 0.        ,\n",
       "        0.        , 0.        , 0.        , 0.029383  , 0.        ,\n",
       "        0.        , 0.        , 0.        , 0.        , 0.        ,\n",
       "        0.        , 0.        , 0.        , 0.        , 0.        ,\n",
       "        0.        , 0.        ]])"
      ]
     },
     "execution_count": 100,
     "metadata": {},
     "output_type": "execute_result"
    }
   ],
   "source": [
    "trytest = df.iloc[0:5,1:].values\n",
    "trytest"
   ]
  },
  {
   "cell_type": "code",
   "execution_count": 17,
   "metadata": {},
   "outputs": [
    {
     "data": {
      "text/plain": [
       "array([100008., 100023., 100053., ..., 999958., 999964., 999967.])"
      ]
     },
     "execution_count": 17,
     "metadata": {},
     "output_type": "execute_result"
    }
   ],
   "source": [
    "sel = df.values\n",
    "sel[:,0]"
   ]
  },
  {
   "cell_type": "code",
   "execution_count": 18,
   "metadata": {
    "colab": {
     "base_uri": "https://localhost:8080/"
    },
    "id": "y-tpRmtdvD2e",
    "outputId": "30900570-8142-4ef2-e239-ebf6c0f0a4ab"
   },
   "outputs": [
    {
     "name": "stderr",
     "output_type": "stream",
     "text": [
      "100%|████████████████████████████████████| 61578/61578 [06:21<00:00, 161.37it/s]\n"
     ]
    },
    {
     "name": "stdout",
     "output_type": "stream",
     "text": [
      "CPU times: user 6min 7s, sys: 7.38 s, total: 6min 15s\n",
      "Wall time: 6min 24s\n"
     ]
    }
   ],
   "source": [
    "# Based on https://www.kaggle.com/helmehelmuto/keras-cnn\n",
    "# but uses float32 to save memory/space\n",
    "\n",
    "ORIG_SHAPE = (424,424)\n",
    "CROP_SIZE = (256,256)\n",
    "IMG_SHAPE = (64,64)\n",
    "\n",
    "def get_image(path, x1,y1, shape, crop_size):\n",
    "    x = plt.imread(path)\n",
    "    x = x[x1:x1+crop_size[0], y1:y1+crop_size[1]]\n",
    "    x = resize(x, shape)\n",
    "    return x\n",
    "    \n",
    "def get_train_data(dataframe, shape=IMG_SHAPE, crop_size=CROP_SIZE):\n",
    "    x1 = (ORIG_SHAPE[0]-CROP_SIZE[0])//2\n",
    "    y1 = (ORIG_SHAPE[1]-CROP_SIZE[1])//2\n",
    "   \n",
    "    sel = dataframe.values\n",
    "    ids = sel[:,0].astype(int).astype(str)\n",
    "    y_batch = sel[:,1:].astype(np.float32)\n",
    "    x_batch = []\n",
    "    for i in tqdm(ids):\n",
    "        x = get_image('images_training_rev1/'+i+'.jpg', x1, y1, shape=shape, crop_size=crop_size)\n",
    "        x_batch.append(x.astype(np.float32))\n",
    "    x_batch = np.array(x_batch)\n",
    "    return x_batch, y_batch\n",
    "\n",
    "%time x, y = get_train_data(df)"
   ]
  },
  {
   "cell_type": "markdown",
   "metadata": {
    "id": "m8jEpOKn3Jx-"
   },
   "source": [
    "We split the data into a train and a test set, but as we will define the test metric below in a custom function, you will not need to access the test data yourself. It is however crucial that you don't overwrite these variables!"
   ]
  },
  {
   "cell_type": "code",
   "execution_count": 19,
   "metadata": {
    "id": "GvwDFO253JNV"
   },
   "outputs": [],
   "source": [
    "# Don't change the numbers in this command!\n",
    "x, x_test, y, y_test = train_test_split(x, y, train_size=0.89391, random_state=99765749)"
   ]
  },
  {
   "cell_type": "markdown",
   "metadata": {
    "id": "OmQyisKl33cb"
   },
   "source": [
    "Just to check... let us have a look at one of the data points and at the shape of our data."
   ]
  },
  {
   "cell_type": "code",
   "execution_count": 20,
   "metadata": {
    "colab": {
     "base_uri": "https://localhost:8080/"
    },
    "id": "BPSIscbsvEpQ",
    "outputId": "226f56bb-62da-4159-9ba1-656155150c73"
   },
   "outputs": [
    {
     "name": "stdout",
     "output_type": "stream",
     "text": [
      "shape of the data array: (55045, 64, 64, 3)\n",
      "shape of the label array: (55045, 37)\n"
     ]
    }
   ],
   "source": [
    "print(\"shape of the data array: {}\".format(x.shape))\n",
    "print(\"shape of the label array: {}\".format(y.shape))"
   ]
  },
  {
   "cell_type": "code",
   "execution_count": 34,
   "metadata": {
    "colab": {
     "base_uri": "https://localhost:8080/",
     "height": 282
    },
    "id": "ZvQWATdcvKOm",
    "outputId": "d7cfe027-5c97-4074-cd0e-e494c4892d62"
   },
   "outputs": [
    {
     "data": {
      "text/plain": [
       "<matplotlib.colorbar.Colorbar at 0x7fb8389b1290>"
      ]
     },
     "execution_count": 34,
     "metadata": {},
     "output_type": "execute_result"
    },
    {
     "data": {
      "image/png": "[encoded data removed]",
      "text/plain": [
       "<Figure size 432x288 with 2 Axes>"
      ]
     },
     "metadata": {
      "needs_background": "light"
     },
     "output_type": "display_data"
    }
   ],
   "source": [
    "plt.pcolormesh(x[4,:,:,1])\n",
    "plt.colorbar()"
   ]
  },
  {
   "cell_type": "code",
   "execution_count": 32,
   "metadata": {
    "colab": {
     "base_uri": "https://localhost:8080/",
     "height": 268
    },
    "id": "FliPIsrJARom",
    "outputId": "038f89a8-4d82-480e-f022-b366ddda1bbd"
   },
   "outputs": [
    {
     "data": {
      "image/png": "[encoded data removed]",
      "text/plain": [
       "<Figure size 432x288 with 1 Axes>"
      ]
     },
     "metadata": {
      "needs_background": "light"
     },
     "output_type": "display_data"
    }
   ],
   "source": [
    "plt.imshow(x[4])\n",
    "plt.show()"
   ]
  },
  {
   "cell_type": "code",
   "execution_count": 48,
   "metadata": {
    "colab": {
     "base_uri": "https://localhost:8080/"
    },
    "id": "BXNIvTcFeNdk",
    "outputId": "2c2efbc4-c3ad-4418-9bb1-997a174a67f5"
   },
   "outputs": [
    {
     "data": {
      "text/plain": [
       "(37,)"
      ]
     },
     "execution_count": 48,
     "metadata": {},
     "output_type": "execute_result"
    }
   ],
   "source": [
    "y[112].shape"
   ]
  },
  {
   "cell_type": "markdown",
   "metadata": {
    "id": "-FwbvCGu2lFl"
   },
   "source": [
    "---\n",
    "## Test metric definition\n",
    "Before we let you start coding stuff, we will define a scoring function. If you want to use this same metric for the optimisation of the network: it is called the *Root Mean Squared Error*."
   ]
  },
  {
   "cell_type": "code",
   "execution_count": 35,
   "metadata": {
    "id": "vWfV82PHvKxf"
   },
   "outputs": [],
   "source": [
    "def score(y_prediction):\n",
    "  return np.sqrt(np.mean( np.power(y_prediction - y_test, 2) ))"
   ]
  },
  {
   "cell_type": "markdown",
   "metadata": {
    "id": "1PLmkbBu1L4A"
   },
   "source": [
    "---\n",
    "## Now start writing your own code!\n",
    "You now have access over the data through the following variables:\n",
    "\n",
    "- data: `x`;\n",
    "- labeling: `y`;\n",
    "- test data `x_test` (don't overwrite this array!).\n",
    "\n",
    "For testing you can use the `score` function that we defined above."
   ]
  },
  {
   "cell_type": "code",
   "execution_count": null,
   "metadata": {
    "id": "2b3CKffoA4sW"
   },
   "outputs": [],
   "source": [
    "# Hint: the layers you want to have a look at are:\n",
    "# - Conv2D\n",
    "# - MaxPooling2D\n",
    "# - Flatten"
   ]
  },
  {
   "cell_type": "code",
   "execution_count": 36,
   "metadata": {
    "id": "73NzKxAemIr6"
   },
   "outputs": [],
   "source": [
    "# Imports first\n",
    "from tensorflow.keras.models import Sequential\n",
    "from tensorflow.keras.optimizers import Adam\n",
    "from tensorflow.keras.layers import Dense, Activation, Dropout, Conv2D, MaxPooling2D, Flatten, LeakyReLU, BatchNormalization\n",
    "from tensorflow.keras.metrics import RootMeanSquaredError\n",
    "from tensorflow.keras.losses import mean_squared_error\n",
    "from tensorflow.keras.callbacks import EarlyStopping\n",
    "from tensorflow.keras.regularizers import l1,l2"
   ]
  },
  {
   "cell_type": "code",
   "execution_count": 37,
   "metadata": {
    "colab": {
     "base_uri": "https://localhost:8080/",
     "height": 232
    },
    "id": "jeiowD4rVO75",
    "outputId": "55f3622a-acca-44db-822f-0255c721e35a"
   },
   "outputs": [
    {
     "name": "stderr",
     "output_type": "stream",
     "text": [
      "2022-04-20 12:16:44.854932: I tensorflow/core/platform/cpu_feature_guard.cc:145] This TensorFlow binary is optimized with Intel(R) MKL-DNN to use the following CPU instructions in performance critical operations:  SSE4.1 SSE4.2\n",
      "To enable them in non-MKL-DNN operations, rebuild TensorFlow with the appropriate compiler flags.\n",
      "2022-04-20 12:16:44.857443: I tensorflow/core/common_runtime/process_util.cc:115] Creating new thread pool with default inter op setting: 8. Tune using inter_op_parallelism_threads for best performance.\n"
     ]
    }
   ],
   "source": [
    "model = Sequential()\n",
    "\n",
    "model.add(Conv2D(32,3,activation='relu', input_shape = (x.shape[1],x.shape[2],x.shape[3])))\n",
    "model.add(MaxPooling2D(3,2))\n",
    "model.add(Conv2D(64,3,activation='relu'))\n",
    "model.add(MaxPooling2D((3,3)))\n",
    "model.add(Conv2D(64,3,activation='relu'))\n",
    "model.add(Conv2D(64,(7,7),activation='relu'))\n",
    "#model.add(Avgpooling2D((3,3)))\n",
    "model.add(Flatten())\n",
    "model.add(Dense(64, activation='relu'))\n",
    "model.add(Dense(37,activation= 'sigmoid'))"
   ]
  },
  {
   "cell_type": "code",
   "execution_count": 38,
   "metadata": {
    "colab": {
     "base_uri": "https://localhost:8080/"
    },
    "id": "Ar7NFKs6dem3",
    "outputId": "21a682dd-6ee7-4c7a-8858-9a6040f170cf"
   },
   "outputs": [
    {
     "name": "stdout",
     "output_type": "stream",
     "text": [
      "Model: \"sequential\"\n",
      "_________________________________________________________________\n",
      "Layer (type)                 Output Shape              Param #   \n",
      "=================================================================\n",
      "conv2d (Conv2D)              (None, 62, 62, 32)        896       \n",
      "_________________________________________________________________\n",
      "max_pooling2d (MaxPooling2D) (None, 30, 30, 32)        0         \n",
      "_________________________________________________________________\n",
      "conv2d_1 (Conv2D)            (None, 28, 28, 64)        18496     \n",
      "_________________________________________________________________\n",
      "max_pooling2d_1 (MaxPooling2 (None, 9, 9, 64)          0         \n",
      "_________________________________________________________________\n",
      "conv2d_2 (Conv2D)            (None, 7, 7, 64)          36928     \n",
      "_________________________________________________________________\n",
      "conv2d_3 (Conv2D)            (None, 1, 1, 64)          200768    \n",
      "_________________________________________________________________\n",
      "flatten (Flatten)            (None, 64)                0         \n",
      "_________________________________________________________________\n",
      "dense (Dense)                (None, 64)                4160      \n",
      "_________________________________________________________________\n",
      "dense_1 (Dense)              (None, 37)                2405      \n",
      "=================================================================\n",
      "Total params: 263,653\n",
      "Trainable params: 263,653\n",
      "Non-trainable params: 0\n",
      "_________________________________________________________________\n"
     ]
    }
   ],
   "source": [
    "model.summary()"
   ]
  },
  {
   "cell_type": "code",
   "execution_count": 39,
   "metadata": {
    "colab": {
     "base_uri": "https://localhost:8080/",
     "height": 164
    },
    "id": "HX-62ehNdiHu",
    "outputId": "006bf5c3-1546-467e-d2c4-97f9d74a90ec"
   },
   "outputs": [],
   "source": [
    "model.compile(optimizer='adam',loss='mse',metrics=['accuracy'])"
   ]
  },
  {
   "cell_type": "code",
   "execution_count": 40,
   "metadata": {
    "colab": {
     "base_uri": "https://localhost:8080/",
     "height": 164
    },
    "id": "1QypB9mLj-7l",
    "outputId": "01269d82-4a0d-417e-859d-f5d6195f6b04"
   },
   "outputs": [
    {
     "name": "stdout",
     "output_type": "stream",
     "text": [
      "Train on 55045 samples, validate on 6533 samples\n",
      "55045/55045 [==============================] - 511s 9ms/sample - loss: 0.0289 - accuracy: 0.5642 - val_loss: 0.0187 - val_accuracy: 0.5956\n"
     ]
    },
    {
     "data": {
      "text/plain": [
       "<tensorflow.python.keras.callbacks.History at 0x7fb8d9c2b710>"
      ]
     },
     "execution_count": 40,
     "metadata": {},
     "output_type": "execute_result"
    }
   ],
   "source": [
    "history = model.fit(x,y,batch_size=128, epochs=1, validation_data=(x_test,y_test) )"
   ]
  },
  {
   "cell_type": "code",
   "execution_count": null,
   "metadata": {},
   "outputs": [],
   "source": [
    "df_test = p"
   ]
  },
  {
   "cell_type": "code",
   "execution_count": 45,
   "metadata": {},
   "outputs": [
    {
     "data": {
      "text/plain": [
       "array([[7.5829804e-01, 1.8879735e-01, 2.5723636e-02, 1.6298908e-01,\n",
       "        7.2053343e-02, 3.1583041e-02, 6.4126402e-02, 2.2106290e-02,\n",
       "        1.6178381e-01, 9.2191100e-03, 3.1935036e-02, 7.7619910e-02,\n",
       "        2.1887124e-02, 1.7588323e-01, 9.0018880e-01, 3.5844249e-01,\n",
       "        2.9404342e-01, 1.6561821e-01, 1.2130916e-02, 1.3589859e-02,\n",
       "        1.8195808e-03, 5.0345659e-03, 6.0990989e-02, 2.2265613e-02,\n",
       "        2.4852157e-04, 9.3671978e-02, 5.9602857e-03, 2.9744565e-02,\n",
       "        1.5313834e-02, 5.1387846e-03, 1.4200658e-02, 8.5159242e-03,\n",
       "        2.4604440e-02, 1.3488978e-02, 5.2304864e-03, 1.4368594e-03,\n",
       "        2.1433966e-02]], dtype=float32)"
      ]
     },
     "execution_count": 45,
     "metadata": {},
     "output_type": "execute_result"
    }
   ],
   "source": [
    "model.predict([[x_test]])"
   ]
  },
  {
   "cell_type": "code",
   "execution_count": 144,
   "metadata": {},
   "outputs": [
    {
     "data": {
      "text/plain": [
       "(64, 64, 3)"
      ]
     },
     "execution_count": 144,
     "metadata": {},
     "output_type": "execute_result"
    }
   ],
   "source": [
    "image_name_list = os.listdir('images_test_rev1')\n",
    "id_list=[]\n",
    "x_batch =[]\n",
    "x1 = (ORIG_SHAPE[0]-CROP_SIZE[0])//2\n",
    "y1 = (ORIG_SHAPE[1]-CROP_SIZE[1])//2\n",
    "\n",
    "for f in image_name_list:\n",
    "    \n",
    "    x = get_image('images_training_rev1/'+f, x1, y1, shape=IMG_SHAPE, crop_size=CROP_SIZE)\n",
    "    x_batch.append(x.astype(np.float32))\n",
    "    id_list.append(int(os.path.splitext(f)[0]))\n",
    "        \n",
    "id_list = np.array(id_list)\n",
    "x_batch= np.array(x_batch)\n",
    "x_batch[0].shape"
   ]
  },
  {
   "cell_type": "code",
   "execution_count": 103,
   "metadata": {},
   "outputs": [],
   "source": [
    "y_prediction = model.predict([x_batch])"
   ]
  },
  {
   "cell_type": "code",
   "execution_count": 102,
   "metadata": {},
   "outputs": [],
   "source": [
    "def score(y_prediction):\n",
    "  return np.sqrt(np.mean( np.power(y_prediction - trytest, 2) ))\n"
   ]
  },
  {
   "cell_type": "code",
   "execution_count": 105,
   "metadata": {},
   "outputs": [
    {
     "data": {
      "text/plain": [
       "0.12714933432202327"
      ]
     },
     "execution_count": 105,
     "metadata": {},
     "output_type": "execute_result"
    }
   ],
   "source": [
    "sc = score(y_prediction)\n",
    "sc"
   ]
  },
  {
   "cell_type": "code",
   "execution_count": 3,
   "metadata": {},
   "outputs": [],
   "source": [
    "#gid =id_list.reshape(len(id_list),1)\n",
    "#print(gid.shape)"
   ]
  },
  {
   "cell_type": "code",
   "execution_count": 152,
   "metadata": {},
   "outputs": [
    {
     "data": {
      "text/plain": [
       "dtype('float64')"
      ]
     },
     "execution_count": 152,
     "metadata": {},
     "output_type": "execute_result"
    }
   ],
   "source": [
    "#fres = np.concatenate((gid,y_prediction))\n",
    "fres = np.column_stack((id_list,y_prediction))\n",
    "fres.dtype"
   ]
  },
  {
   "cell_type": "code",
   "execution_count": 154,
   "metadata": {},
   "outputs": [
    {
     "data": {
      "text/html": [
       "<div>\n",
       "<style scoped>\n",
       "    .dataframe tbody tr th:only-of-type {\n",
       "        vertical-align: middle;\n",
       "    }\n",
       "\n",
       "    .dataframe tbody tr th {\n",
       "        vertical-align: top;\n",
       "    }\n",
       "\n",
       "    .dataframe thead th {\n",
       "        text-align: right;\n",
       "    }\n",
       "</style>\n",
       "<table border=\"1\" class=\"dataframe\">\n",
       "  <thead>\n",
       "    <tr style=\"text-align: right;\">\n",
       "      <th></th>\n",
       "      <th>GalaxyID</th>\n",
       "      <th>Class1.1</th>\n",
       "      <th>Class1.2</th>\n",
       "      <th>Class1.3</th>\n",
       "      <th>Class2.1</th>\n",
       "      <th>Class2.2</th>\n",
       "      <th>Class3.1</th>\n",
       "      <th>Class3.2</th>\n",
       "      <th>Class4.1</th>\n",
       "      <th>Class4.2</th>\n",
       "      <th>...</th>\n",
       "      <th>Class9.3</th>\n",
       "      <th>Class10.1</th>\n",
       "      <th>Class10.2</th>\n",
       "      <th>Class10.3</th>\n",
       "      <th>Class11.1</th>\n",
       "      <th>Class11.2</th>\n",
       "      <th>Class11.3</th>\n",
       "      <th>Class11.4</th>\n",
       "      <th>Class11.5</th>\n",
       "      <th>Class11.6</th>\n",
       "    </tr>\n",
       "  </thead>\n",
       "  <tbody>\n",
       "    <tr>\n",
       "      <th>0</th>\n",
       "      <td>100008</td>\n",
       "      <td>0.457281</td>\n",
       "      <td>0.517348</td>\n",
       "      <td>0.022837</td>\n",
       "      <td>0.039784</td>\n",
       "      <td>0.564814</td>\n",
       "      <td>0.152704</td>\n",
       "      <td>0.378727</td>\n",
       "      <td>0.266503</td>\n",
       "      <td>0.312232</td>\n",
       "      <td>...</td>\n",
       "      <td>0.010297</td>\n",
       "      <td>0.127661</td>\n",
       "      <td>0.107102</td>\n",
       "      <td>0.054864</td>\n",
       "      <td>0.012727</td>\n",
       "      <td>0.121567</td>\n",
       "      <td>0.035053</td>\n",
       "      <td>0.020200</td>\n",
       "      <td>0.015450</td>\n",
       "      <td>0.093129</td>\n",
       "    </tr>\n",
       "    <tr>\n",
       "      <th>1</th>\n",
       "      <td>100023</td>\n",
       "      <td>0.274219</td>\n",
       "      <td>0.744027</td>\n",
       "      <td>0.018963</td>\n",
       "      <td>0.347801</td>\n",
       "      <td>0.439613</td>\n",
       "      <td>0.095254</td>\n",
       "      <td>0.315666</td>\n",
       "      <td>0.258954</td>\n",
       "      <td>0.193051</td>\n",
       "      <td>...</td>\n",
       "      <td>0.095540</td>\n",
       "      <td>0.060822</td>\n",
       "      <td>0.078333</td>\n",
       "      <td>0.052995</td>\n",
       "      <td>0.036243</td>\n",
       "      <td>0.124806</td>\n",
       "      <td>0.032465</td>\n",
       "      <td>0.009318</td>\n",
       "      <td>0.005116</td>\n",
       "      <td>0.109568</td>\n",
       "    </tr>\n",
       "    <tr>\n",
       "      <th>2</th>\n",
       "      <td>100078</td>\n",
       "      <td>0.741392</td>\n",
       "      <td>0.230770</td>\n",
       "      <td>0.045885</td>\n",
       "      <td>0.059500</td>\n",
       "      <td>0.195720</td>\n",
       "      <td>0.054663</td>\n",
       "      <td>0.145485</td>\n",
       "      <td>0.040099</td>\n",
       "      <td>0.245735</td>\n",
       "      <td>...</td>\n",
       "      <td>0.015906</td>\n",
       "      <td>0.028861</td>\n",
       "      <td>0.019757</td>\n",
       "      <td>0.028313</td>\n",
       "      <td>0.008872</td>\n",
       "      <td>0.023109</td>\n",
       "      <td>0.015150</td>\n",
       "      <td>0.008509</td>\n",
       "      <td>0.003466</td>\n",
       "      <td>0.033010</td>\n",
       "    </tr>\n",
       "    <tr>\n",
       "      <th>3</th>\n",
       "      <td>100090</td>\n",
       "      <td>0.436235</td>\n",
       "      <td>0.561008</td>\n",
       "      <td>0.024789</td>\n",
       "      <td>0.059515</td>\n",
       "      <td>0.564162</td>\n",
       "      <td>0.154027</td>\n",
       "      <td>0.354773</td>\n",
       "      <td>0.270895</td>\n",
       "      <td>0.322282</td>\n",
       "      <td>...</td>\n",
       "      <td>0.017724</td>\n",
       "      <td>0.117494</td>\n",
       "      <td>0.110525</td>\n",
       "      <td>0.059777</td>\n",
       "      <td>0.017568</td>\n",
       "      <td>0.121181</td>\n",
       "      <td>0.038051</td>\n",
       "      <td>0.018918</td>\n",
       "      <td>0.015081</td>\n",
       "      <td>0.100413</td>\n",
       "    </tr>\n",
       "    <tr>\n",
       "      <th>4</th>\n",
       "      <td>100053</td>\n",
       "      <td>0.650885</td>\n",
       "      <td>0.356656</td>\n",
       "      <td>0.041477</td>\n",
       "      <td>0.118349</td>\n",
       "      <td>0.237990</td>\n",
       "      <td>0.060289</td>\n",
       "      <td>0.192506</td>\n",
       "      <td>0.075925</td>\n",
       "      <td>0.203723</td>\n",
       "      <td>...</td>\n",
       "      <td>0.031848</td>\n",
       "      <td>0.038978</td>\n",
       "      <td>0.035056</td>\n",
       "      <td>0.032709</td>\n",
       "      <td>0.015778</td>\n",
       "      <td>0.045591</td>\n",
       "      <td>0.024508</td>\n",
       "      <td>0.011206</td>\n",
       "      <td>0.005541</td>\n",
       "      <td>0.049641</td>\n",
       "    </tr>\n",
       "  </tbody>\n",
       "</table>\n",
       "<p>5 rows × 38 columns</p>\n",
       "</div>"
      ],
      "text/plain": [
       "   GalaxyID  Class1.1  Class1.2  Class1.3  Class2.1  Class2.2  Class3.1  \\\n",
       "0    100008  0.457281  0.517348  0.022837  0.039784  0.564814  0.152704   \n",
       "1    100023  0.274219  0.744027  0.018963  0.347801  0.439613  0.095254   \n",
       "2    100078  0.741392  0.230770  0.045885  0.059500  0.195720  0.054663   \n",
       "3    100090  0.436235  0.561008  0.024789  0.059515  0.564162  0.154027   \n",
       "4    100053  0.650885  0.356656  0.041477  0.118349  0.237990  0.060289   \n",
       "\n",
       "   Class3.2  Class4.1  Class4.2  ...  Class9.3  Class10.1  Class10.2  \\\n",
       "0  0.378727  0.266503  0.312232  ...  0.010297   0.127661   0.107102   \n",
       "1  0.315666  0.258954  0.193051  ...  0.095540   0.060822   0.078333   \n",
       "2  0.145485  0.040099  0.245735  ...  0.015906   0.028861   0.019757   \n",
       "3  0.354773  0.270895  0.322282  ...  0.017724   0.117494   0.110525   \n",
       "4  0.192506  0.075925  0.203723  ...  0.031848   0.038978   0.035056   \n",
       "\n",
       "   Class10.3  Class11.1  Class11.2  Class11.3  Class11.4  Class11.5  Class11.6  \n",
       "0   0.054864   0.012727   0.121567   0.035053   0.020200   0.015450   0.093129  \n",
       "1   0.052995   0.036243   0.124806   0.032465   0.009318   0.005116   0.109568  \n",
       "2   0.028313   0.008872   0.023109   0.015150   0.008509   0.003466   0.033010  \n",
       "3   0.059777   0.017568   0.121181   0.038051   0.018918   0.015081   0.100413  \n",
       "4   0.032709   0.015778   0.045591   0.024508   0.011206   0.005541   0.049641  \n",
       "\n",
       "[5 rows x 38 columns]"
      ]
     },
     "execution_count": 154,
     "metadata": {},
     "output_type": "execute_result"
    }
   ],
   "source": [
    "\n",
    "result= pd.DataFrame(fres, columns=df.columns)\n",
    "result =result.astype({\"GalaxyID\": int}, errors='raise')\n",
    "result"
   ]
  },
  {
   "cell_type": "code",
   "execution_count": null,
   "metadata": {},
   "outputs": [],
   "source": [
    "plt.plot(history.history['loss'])\n",
    "plt.plot(history.history['val_loss'])\n",
    "plt.title('model loss')\n",
    "plt.ylabel('loss')\n",
    "plt.xlabel('epoch')\n",
    "plt.show()"
   ]
  },
  {
   "cell_type": "code",
   "execution_count": null,
   "metadata": {},
   "outputs": [],
   "source": []
  }
 ],
 "metadata": {
  "accelerator": "GPU",
  "colab": {
   "collapsed_sections": [],
   "name": "Copy of Convolutional_Neural_Networks.ipynb",
   "provenance": []
  },
  "kernelspec": {
   "display_name": "Python 3 (ipykernel)",
   "language": "python",
   "name": "python3"
  },
  "language_info": {
   "codemirror_mode": {
    "name": "ipython",
    "version": 3
   },
   "file_extension": ".py",
   "mimetype": "text/x-python",
   "name": "python",
   "nbconvert_exporter": "python",
   "pygments_lexer": "ipython3",
   "version": "3.7.11"
  }
 },
 "nbformat": 4,
 "nbformat_minor": 1
}
